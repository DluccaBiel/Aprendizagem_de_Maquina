{
  "nbformat": 4,
  "nbformat_minor": 0,
  "metadata": {
    "colab": {
      "provenance": []
    },
    "kernelspec": {
      "name": "python3",
      "display_name": "Python 3"
    },
    "language_info": {
      "name": "python"
    }
  },
  "cells": [
    {
      "cell_type": "code",
      "execution_count": 6,
      "metadata": {
        "colab": {
          "base_uri": "https://localhost:8080/"
        },
        "id": "gy-e7IO6Jgz4",
        "outputId": "e741bd2b-0c88-4818-e2a2-a52359bbc4f7"
      },
      "outputs": [
        {
          "output_type": "stream",
          "name": "stdout",
          "text": [
            "Arquivo CSV 'cadastros.csv' criado com sucesso!\n",
            "Digite o número do registro que deseja visualizar (1 a 5): 1\n",
            "Registro 1: Nome: Pablo Coelho; Data de nascimento: 26/01/1974; Data de cadastro: 17/02/2025 às 20:30 horas\n"
          ]
        }
      ],
      "source": [
        "import csv\n",
        "from datetime import datetime\n",
        "\n",
        "# Função para criar o arquivo CSV\n",
        "def criar_csv():\n",
        "    # Dados que serão escritos no arquivo CSV\n",
        "    dados = [\n",
        "        [\"nome\", \"dataNasc\", \"dataCadastrado\", \"horaCadastro\"],  # Cabeçalho\n",
        "        [\"Pablo Coelho\", \"26/01/1974\", \"2025-02-17\", \"20:30\"],   # Registro 1\n",
        "        [\"Mariana Ferreira\", \"26/04/1995\", \"2025-02-17\", \"20:31\"],  # Registro 2\n",
        "        [\"João Silva\", \"15/12/1980\", \"2025-02-17\", \"20:32\"],    # Registro 3\n",
        "        [\"Ana Souza\", \"03/07/1990\", \"2025-02-17\", \"20:33\"],     # Registro 4\n",
        "        [\"Carlos Oliveira\", \"22/09/1985\", \"2025-02-17\", \"20:34\"]  # Registro 5\n",
        "    ]\n",
        "\n",
        "    # Escrever os dados no arquivo CSV\n",
        "    with open(\"cadastros.csv\", mode=\"w\", newline=\"\", encoding=\"utf-8\") as arquivo:\n",
        "        escritor = csv.writer(arquivo)\n",
        "        escritor.writerows(dados)\n",
        "    print(\"Arquivo CSV 'cadastros.csv' criado com sucesso!\")\n",
        "\n",
        "# Função para ler o arquivo CSV e exibir o registro escolhido\n",
        "def ler_csv():\n",
        "    try:\n",
        "        # Abrir o arquivo CSV para leitura\n",
        "        with open(\"cadastros.csv\", mode=\"r\", encoding=\"utf-8\") as arquivo:\n",
        "            leitor = csv.reader(arquivo)\n",
        "            registros = list(leitor)  # Converter os dados para uma lista\n",
        "\n",
        "            # Solicitar o número do registro ao usuário\n",
        "            n = int(input(\"Digite o número do registro que deseja visualizar (1 a 5): \"))\n",
        "            if n < 1 or n > 5:\n",
        "                print(\"Número de registro inválido. Digite um número entre 1 e 5.\")\n",
        "                return\n",
        "\n",
        "            # Selecionar o registro escolhido (o índice 0 é o cabeçalho)\n",
        "            registro = registros[n]\n",
        "\n",
        "            # Converter as datas para o padrão brasileiro\n",
        "            data_nasc = datetime.strptime(registro[1], \"%d/%m/%Y\").strftime(\"%d/%m/%Y\")\n",
        "            data_cadastro = datetime.strptime(registro[2], \"%Y-%m-%d\").strftime(\"%d/%m/%Y\")\n",
        "            hora_cadastro = registro[3]\n",
        "\n",
        "            # Exibir o registro formatado\n",
        "            print(f\"Registro {n}: Nome: {registro[0]}; Data de nascimento: {data_nasc}; Data de cadastro: {data_cadastro} às {hora_cadastro} horas\")\n",
        "\n",
        "    except FileNotFoundError:\n",
        "        print(\"Erro: Arquivo 'cadastros.csv' não encontrado. Crie o arquivo primeiro.\")\n",
        "\n",
        "# Executar as funções\n",
        "criar_csv()  # Criar o arquivo CSV\n",
        "ler_csv()    # Ler e exibir o registro escolhido"
      ]
    }
  ]
}
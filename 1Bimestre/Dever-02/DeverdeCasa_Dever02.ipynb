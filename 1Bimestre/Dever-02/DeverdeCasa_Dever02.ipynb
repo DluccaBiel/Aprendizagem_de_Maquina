{
  "nbformat": 4,
  "nbformat_minor": 0,
  "metadata": {
    "colab": {
      "provenance": []
    },
    "kernelspec": {
      "name": "python3",
      "display_name": "Python 3"
    },
    "language_info": {
      "name": "python"
    }
  },
  "cells": [
    {
      "cell_type": "code",
      "execution_count": 2,
      "metadata": {
        "colab": {
          "base_uri": "https://localhost:8080/"
        },
        "id": "WtY_-pyjkg9T",
        "outputId": "3b71f170-f6a5-490a-8d66-426252732490"
      },
      "outputs": [
        {
          "output_type": "stream",
          "name": "stdout",
          "text": [
            "Digite uma frase: ola\n",
            "\n",
            "Resultados da análise:\n",
            "Número de caracteres: 3\n",
            "Número de palavras: 1\n",
            "Maior palavra: ola\n",
            "Frase invertida (por caracteres): alo\n",
            "Frase invertida (por palavras): ola\n",
            "Frase em maiúsculas: OLA\n",
            "Frase em minúsculas: ola\n",
            "Tupla de palavras: ('ola',)\n"
          ]
        }
      ],
      "source": [
        "\n",
        "def verificar_entrada(frase):\n",
        "    if not frase.strip():\n",
        "        raise ValueError(\"A entrada não pode estar vazia.\")\n",
        "    return frase\n",
        "\n",
        "\n",
        "def analisar_frase():\n",
        "    try:\n",
        "\n",
        "        frase = input(\"Digite uma frase: \")\n",
        "        frase = verificar_entrada(frase)\n",
        "\n",
        "\n",
        "\n",
        "        num_caracteres = len(frase)\n",
        "\n",
        "\n",
        "        palavras = frase.split()\n",
        "        num_palavras = len(palavras)\n",
        "\n",
        "\n",
        "        maior_palavra = max(palavras, key=len)\n",
        "\n",
        "\n",
        "        frase_invertida_caracteres = frase[::-1]\n",
        "\n",
        "\n",
        "        frase_invertida_palavras = ' '.join(palavras[::-1])\n",
        "\n",
        "\n",
        "        frase_maiuscula = frase.upper()\n",
        "        frase_minuscula = frase.lower()\n",
        "\n",
        "\n",
        "        tupla_palavras = tuple(palavras)\n",
        "\n",
        "\n",
        "        print(\"\\nResultados da análise:\")\n",
        "        print(f\"Número de caracteres: {num_caracteres}\")\n",
        "        print(f\"Número de palavras: {num_palavras}\")\n",
        "        print(f\"Maior palavra: {maior_palavra}\")\n",
        "        print(f\"Frase invertida (por caracteres): {frase_invertida_caracteres}\")\n",
        "        print(f\"Frase invertida (por palavras): {frase_invertida_palavras}\")\n",
        "        print(f\"Frase em maiúsculas: {frase_maiuscula}\")\n",
        "        print(f\"Frase em minúsculas: {frase_minuscula}\")\n",
        "        print(f\"Tupla de palavras: {tupla_palavras}\")\n",
        "\n",
        "    except ValueError as e:\n",
        "        print(f\"Erro: {e}\")\n",
        "\n",
        "\n",
        "analisar_frase()"
      ]
    }
  ]
}
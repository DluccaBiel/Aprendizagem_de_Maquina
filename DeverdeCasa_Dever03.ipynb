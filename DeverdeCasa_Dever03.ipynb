{
  "nbformat": 4,
  "nbformat_minor": 0,
  "metadata": {
    "colab": {
      "provenance": []
    },
    "kernelspec": {
      "name": "python3",
      "display_name": "Python 3"
    },
    "language_info": {
      "name": "python"
    }
  },
  "cells": [
    {
      "cell_type": "code",
      "execution_count": 4,
      "metadata": {
        "colab": {
          "base_uri": "https://localhost:8080/"
        },
        "id": "7gwWQs5CQzGz",
        "outputId": "f0aca950-e878-44d5-f4a9-12cab34ef1c0"
      },
      "outputs": [
        {
          "output_type": "stream",
          "name": "stdout",
          "text": [
            "Digite um nome: Bruno\n",
            "Bruno tem 30 anos, não é a pessoa mais velha da lista.\n"
          ]
        }
      ],
      "source": [
        "import csv\n",
        "\n",
        "# 1. Criar o arquivo dados.csv\n",
        "with open('dados.csv', 'w', newline='') as arquivo_csv:\n",
        "    escritor = csv.writer(arquivo_csv)\n",
        "    escritor.writerow(['Nome', 'Idade'])\n",
        "    escritor.writerow(['Ana', 25])\n",
        "    escritor.writerow(['Bruno', 30])\n",
        "    escritor.writerow(['Carla', 22])\n",
        "    escritor.writerow(['Daniel', 28])\n",
        "    escritor.writerow(['Eduardo', 35])\n",
        "\n",
        "dados = []\n",
        "with open('dados.csv', 'r') as arquivo_csv:\n",
        "    leitor = csv.reader(arquivo_csv)\n",
        "    next(leitor)\n",
        "    for linha in leitor:\n",
        "        dados.append({'Nome': linha[0], 'Idade': int(linha[1])})\n",
        "\n",
        "nome_digitado = input(\"Digite um nome: \")\n",
        "\n",
        "encontrado = False\n",
        "mais_velho = max(dados, key=lambda x: x['Idade'])\n",
        "\n",
        "for pessoa in dados:\n",
        "    if pessoa['Nome'].lower() == nome_digitado.lower():\n",
        "        encontrado = True\n",
        "        idade = pessoa['Idade']\n",
        "        if pessoa == mais_velho:\n",
        "            print(f\"{pessoa['Nome']} tem {idade} anos, é a pessoa mais velha da lista.\")\n",
        "        else:\n",
        "            print(f\"{pessoa['Nome']} tem {idade} anos, não é a pessoa mais velha da lista.\")\n",
        "        break\n",
        "\n",
        "if not encontrado:\n",
        "    print(\"Nome não encontrado.\")"
      ]
    }
  ]
}